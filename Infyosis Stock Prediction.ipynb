{
 "cells": [
  {
   "cell_type": "markdown",
   "metadata": {},
   "source": [
    "## Infosis Stock Prediction"
   ]
  },
  {
   "cell_type": "markdown",
   "metadata": {},
   "source": [
    "### Introduction :\n",
    "Stock market analysis/prediction is considering to be the most sophisticated area specifically managed by \"Fund Manager\" who are providing bespoke services to institutional investors via institutions such as Hedge funds, Funds of Funds and others and other investment vehicles. Traditionally these Hedge fund managers used to perform analysis or create a strategy mainly by analyzing past financial reports, market performance and come to a conclusion what position to take for that specific security or asset class. However over the years with a tremendous increase in the amount of financial data the traditional approach for analysis and shortlisting different strategies for picking stocks is changed and a new field is emerged called Quantitative Finance. First thing first what is Quantitative Finance?\n",
    "\n",
    "Quantitative finance is a field of applied mathematics, concerned with mathematical modelling of financial markets. To simply put we use past financial data to come up with a strategy which will let us predict a future trend or the price of an asset class.\n",
    "\n",
    "My main aim of is to provide very beginners with a basic overview as to how we can use basic machine learning models on stock market data to predict future trends. To make things simple here we will only consider single attribute i.e stock price to analyze the trend of stock (Please note to get a model into production in the practical world it involves more than single attributes into consideration)"
   ]
  },
  {
   "cell_type": "markdown",
   "metadata": {},
   "source": [
    "### Problem Statment :- \n",
    "\n",
    "To predict the future trend of Infosis stock by analysing previous stock price data using different machine learning models."
   ]
  },
  {
   "cell_type": "markdown",
   "metadata": {},
   "source": [
    "#### Importing the required dependencies"
   ]
  },
  {
   "cell_type": "code",
   "execution_count": 1,
   "metadata": {},
   "outputs": [
    {
     "name": "stderr",
     "output_type": "stream",
     "text": [
      "Using TensorFlow backend.\n",
      "/home/iamriyasen1235/.local/lib/python3.5/site-packages/pyramid/__init__.py:68: UserWarning: \n",
      "    The 'pyramid' package will be migrating to a new namespace beginning in \n",
      "    version 1.0.0: 'pmdarima'. This is due to a package name collision with the\n",
      "    Pyramid web framework. For more information, see Issue #34:\n",
      "    \n",
      "        https://github.com/tgsmith61591/pyramid/issues/34\n",
      "        \n",
      "    The package will subsequently be installable via the name 'pmdarima'; the\n",
      "    only functional change to the user will be the import name. All imports\n",
      "    from 'pyramid' will change to 'pmdarima'.\n",
      "    \n",
      "  \"\"\", UserWarning)\n"
     ]
    }
   ],
   "source": [
    "#import packages\n",
    "\n",
    "import warnings\n",
    "warnings.filterwarnings('ignore')\n",
    "\n",
    "import pandas as pd\n",
    "import numpy as np\n",
    "import numpy as np\n",
    "import matplotlib.pyplot as plt\n",
    "%matplotlib inline\n",
    "import pandas as pd\n",
    "from pandas import datetime\n",
    "import math, time\n",
    "import itertools\n",
    "from sklearn import preprocessing\n",
    "import datetime\n",
    "from operator import itemgetter\n",
    "from sklearn.metrics import mean_squared_error\n",
    "from math import sqrt\n",
    "from keras.models import Sequential\n",
    "from keras.layers.core import Dense, Dropout, Activation\n",
    "from keras.layers.recurrent import LSTM\n",
    "from sklearn.preprocessing import StandardScaler\n",
    "from sklearn.model_selection import train_test_split\n",
    "from sklearn.linear_model import LinearRegression\n",
    "from sklearn.metrics import accuracy_score\n",
    "from pyramid.arima import auto_arima\n",
    "\n",
    "import warnings\n",
    "warnings.filterwarnings('ignore')"
   ]
  },
  {
   "cell_type": "code",
   "execution_count": 2,
   "metadata": {
    "scrolled": true
   },
   "outputs": [
    {
     "name": "stdout",
     "output_type": "stream",
     "text": [
      "         Date    Open    High     Low    Last   Close  Total Trade Quantity  \\\n",
      "0  2018-12-07  672.00  685.75  665.60  681.00  682.80             5553948.0   \n",
      "1  2018-12-06  676.10  685.45  664.55  669.70  668.50             8039771.0   \n",
      "2  2018-12-05  683.00  683.65  672.50  682.05  681.40             5177288.0   \n",
      "3  2018-12-04  672.55  688.25  671.30  683.00  685.25             7827923.0   \n",
      "4  2018-12-03  673.15  679.00  665.95  672.45  670.35             8260890.0   \n",
      "\n",
      "   Turnover (Lacs)  \n",
      "0         37715.09  \n",
      "1         54036.60  \n",
      "2         35152.07  \n",
      "3         53451.33  \n",
      "4         55395.97  \n",
      "(1844, 8)\n"
     ]
    }
   ],
   "source": [
    "#reading the csv file\n",
    "Infy = pd.read_csv('NSE-INFY.csv')\n",
    "\n",
    "#print the head\n",
    "print(Infy.head())\n",
    "\n",
    "#print shape\n",
    "print(Infy.shape)"
   ]
  },
  {
   "cell_type": "markdown",
   "metadata": {},
   "source": [
    "### Lets explore our dataset.\n",
    "* Our data consist of 1844 rows and 8 coloumns also know as features.\n",
    "\n",
    "* In total there 8 coloumns incuding Date,Open,High,Low,Last,Close,Total Trade Quantitty,Turnover(Lacs)\n",
    "\n",
    "* Lests try to go through each specific coloumn. <br>\n",
    "\n",
    "**Date** - Our data set date ranges from 29th June'11 to 7th Dec'18 <br>\n",
    "**Open** - It represents the price at which the stock started trading on a particular date.<br>\n",
    "**Close** - It represents the price at which the stock closed on a particular date.<br>\n",
    "**High** - It represents the maximum price stock encounter on a particular date.<br>\n",
    "**Low** - It represents the minimum price stock encounter on a particular date.<br>\n",
    "**Total Trade Quantity** - The total no. of shares/stocks bought or sold on a particular date  <br>\n",
    "**Turnover (Lacs)** - The total sales generated by a Infosys in single day."
   ]
  },
  {
   "cell_type": "code",
   "execution_count": 3,
   "metadata": {
    "scrolled": true
   },
   "outputs": [
    {
     "name": "stdout",
     "output_type": "stream",
     "text": [
      "            Date     Open     High     Low    Last    Close  \\\n",
      "1843  2011-06-29  2868.00  2907.00  2868.0  2880.0  2881.75   \n",
      "1842  2011-06-30  2886.05  2919.00  2881.5  2903.1  2910.45   \n",
      "1841  2011-07-01  2935.00  2969.95  2924.1  2928.0  2934.15   \n",
      "1840  2011-07-04  2966.65  2977.00  2935.0  2941.0  2938.95   \n",
      "1839  2011-07-05  2957.00  2969.90  2926.0  2959.0  2956.45   \n",
      "\n",
      "      Total Trade Quantity  Turnover (Lacs)  \n",
      "1843              600094.0         17320.05  \n",
      "1842             1417730.0         41163.32  \n",
      "1841              800308.0         23549.85  \n",
      "1840              514324.0         15162.29  \n",
      "1839              802966.0         23701.22  \n",
      "         Date    Open    High     Low    Last   Close  Total Trade Quantity  \\\n",
      "4  2018-12-03  673.15  679.00  665.95  672.45  670.35             8260890.0   \n",
      "3  2018-12-04  672.55  688.25  671.30  683.00  685.25             7827923.0   \n",
      "2  2018-12-05  683.00  683.65  672.50  682.05  681.40             5177288.0   \n",
      "1  2018-12-06  676.10  685.45  664.55  669.70  668.50             8039771.0   \n",
      "0  2018-12-07  672.00  685.75  665.60  681.00  682.80             5553948.0   \n",
      "\n",
      "   Turnover (Lacs)  \n",
      "4         55395.97  \n",
      "3         53451.33  \n",
      "2         35152.07  \n",
      "1         54036.60  \n",
      "0         37715.09  \n"
     ]
    }
   ],
   "source": [
    "# Sort the stock data by date this is important because it helps us analyz the stock price chronologically from starting date to end date \n",
    "Infy_Sorted = Infy.sort_values('Date')\n",
    "print(Infy_Sorted.head())\n",
    "print(Infy_Sorted.tail())"
   ]
  },
  {
   "cell_type": "code",
   "execution_count": 4,
   "metadata": {
    "scrolled": true
   },
   "outputs": [
    {
     "data": {
      "text/html": [
       "<div>\n",
       "<style scoped>\n",
       "    .dataframe tbody tr th:only-of-type {\n",
       "        vertical-align: middle;\n",
       "    }\n",
       "\n",
       "    .dataframe tbody tr th {\n",
       "        vertical-align: top;\n",
       "    }\n",
       "\n",
       "    .dataframe thead th {\n",
       "        text-align: right;\n",
       "    }\n",
       "</style>\n",
       "<table border=\"1\" class=\"dataframe\">\n",
       "  <thead>\n",
       "    <tr style=\"text-align: right;\">\n",
       "      <th></th>\n",
       "      <th>Date</th>\n",
       "      <th>Open</th>\n",
       "      <th>High</th>\n",
       "      <th>Low</th>\n",
       "      <th>Last</th>\n",
       "      <th>Close</th>\n",
       "      <th>Total Trade Quantity</th>\n",
       "      <th>Turnover (Lacs)</th>\n",
       "    </tr>\n",
       "    <tr>\n",
       "      <th>Date</th>\n",
       "      <th></th>\n",
       "      <th></th>\n",
       "      <th></th>\n",
       "      <th></th>\n",
       "      <th></th>\n",
       "      <th></th>\n",
       "      <th></th>\n",
       "      <th></th>\n",
       "    </tr>\n",
       "  </thead>\n",
       "  <tbody>\n",
       "    <tr>\n",
       "      <th>2011-06-29</th>\n",
       "      <td>2011-06-29</td>\n",
       "      <td>2868.0</td>\n",
       "      <td>2907.0</td>\n",
       "      <td>2868.0</td>\n",
       "      <td>2880.0</td>\n",
       "      <td>2881.75</td>\n",
       "      <td>600094.0</td>\n",
       "      <td>17320.05</td>\n",
       "    </tr>\n",
       "  </tbody>\n",
       "</table>\n",
       "</div>"
      ],
      "text/plain": [
       "                 Date    Open    High     Low    Last    Close  \\\n",
       "Date                                                             \n",
       "2011-06-29 2011-06-29  2868.0  2907.0  2868.0  2880.0  2881.75   \n",
       "\n",
       "            Total Trade Quantity  Turnover (Lacs)  \n",
       "Date                                               \n",
       "2011-06-29              600094.0         17320.05  "
      ]
     },
     "execution_count": 4,
     "metadata": {},
     "output_type": "execute_result"
    }
   ],
   "source": [
    "#setting index as date\n",
    "Infy_Sorted['Date'] = pd.to_datetime(Infy_Sorted.Date,format='%Y-%m-%d')\n",
    "Infy_Sorted.index = Infy_Sorted['Date']\n",
    "Infy_Sorted.head(1)"
   ]
  },
  {
   "cell_type": "markdown",
   "metadata": {},
   "source": [
    "**The Closing price of the stock is taken into consideration to calculate the overall profit/loss in particluar with respect to what price we bought/sold that stock in single trading day. Lets try to plot a graph of closing price over the yaers from 2011 to 2018**"
   ]
  },
  {
   "cell_type": "code",
   "execution_count": 5,
   "metadata": {
    "scrolled": true
   },
   "outputs": [
    {
     "data": {
      "image/png": "[encoded data removed]",
      "text/plain": [
       "<Figure size 1296x648 with 1 Axes>"
      ]
     },
     "metadata": {},
     "output_type": "display_data"
    }
   ],
   "source": [
    "# Ploting the stock close price from 2011 to 2018 using matplotlib  \n",
    "\n",
    "plt.figure(figsize = (18,9))\n",
    "plt.plot(Infy_Sorted['Close'], label='Close Price history')\n",
    "plt.xlabel('Year',fontsize=18)\n",
    "plt.ylabel('Closing Price',fontsize=18)\n",
    "plt.show()"
   ]
  },
  {
   "cell_type": "markdown",
   "metadata": {},
   "source": [
    "## Feature Engineering"
   ]
  },
  {
   "cell_type": "code",
   "execution_count": 6,
   "metadata": {},
   "outputs": [
    {
     "name": "stdout",
     "output_type": "stream",
     "text": [
      "              Close    HL_PCT  PCT_CHNG  Total Trade Quantity\n",
      "Date                                                         \n",
      "2011-06-29  2881.75  0.000136  0.000048              600094.0\n"
     ]
    }
   ],
   "source": [
    "# lets try to define new features from exsisting this is also knows as feature Engineering \n",
    "\n",
    "# defining new feature, instead of Considering High and low value seprately we will consider their percentage values. \n",
    "\n",
    "Infy_Sorted['HL_PCT'] = (Infy_Sorted['High'] - Infy_Sorted['Low'])/(Infy_Sorted['Low']*100)\n",
    "\n",
    "Infy_Sorted['PCT_CHNG'] = (Infy_Sorted['Close'] - Infy_Sorted['Open'])/(Infy_Sorted['Open']*100)\n",
    "\n",
    "Infy_new = Infy_Sorted[['Close', 'HL_PCT', 'PCT_CHNG', 'Total Trade Quantity']]\n",
    "\n",
    "print(Infy_new.head(1))"
   ]
  },
  {
   "cell_type": "markdown",
   "metadata": {},
   "source": [
    "**Lets consider to forecast 50 days stock price into the future, for that we need to set a new variable as forecast_50. Then, we will create a new column in our dataframe which serves as label (aka our output).** <br>\n",
    "**To fill our output data with data to be trained upon, we will set our  label column equal to our Close column, but shifted 50 units up** "
   ]
  },
  {
   "cell_type": "code",
   "execution_count": 7,
   "metadata": {},
   "outputs": [
    {
     "name": "stdout",
     "output_type": "stream",
     "text": [
      "              Close    HL_PCT  PCT_CHNG  Total Trade Quantity    label\n",
      "Date                                                                  \n",
      "2011-06-29  2881.75  0.000136  0.000048              600094.0  2198.45\n",
      "2011-06-30  2910.45  0.000130  0.000085             1417730.0  2222.05\n",
      "\n",
      "\n",
      "            Close    HL_PCT  PCT_CHNG  Total Trade Quantity  label\n",
      "Date                                                              \n",
      "2018-12-06  668.5  0.000314 -0.000112             8039771.0    NaN\n",
      "2018-12-07  682.8  0.000303  0.000161             5553948.0    NaN\n",
      "\n",
      "\n",
      "length of our dataset = 1844 and forecast_50 = 50\n"
     ]
    }
   ],
   "source": [
    " # predicting 50 days into future\n",
    "forecast_50 = int(50.0)\n",
    "\n",
    "# Creating label by shifting 'Adj. Close' according to 'forecast_out'\n",
    "Infy_new['label'] = Infy_new['Close'].shift(-forecast_50)\n",
    "print(Infy_new.head(2))\n",
    "print('\\n')\n",
    "\n",
    "# If we look at the tail, it consists of n(=forecast_50) rows with NAN in Label column \n",
    "print(Infy_new.tail(2))\n",
    "print('\\n')\n",
    "\n",
    "print('length of our dataset =',len(Infy_new), \"and forecast_50 =\", forecast_50)"
   ]
  },
  {
   "cell_type": "code",
   "execution_count": 8,
   "metadata": {
    "scrolled": true
   },
   "outputs": [
    {
     "name": "stdout",
     "output_type": "stream",
     "text": [
      "[ 0.97405882 -0.63291761  0.61150729 -0.39494115]\n"
     ]
    }
   ],
   "source": [
    "# Define features Matrix X by excluding the label column which we just created \n",
    "X = np.array(Infy_new.drop(['label'], 1))\n",
    "\n",
    "# Using a feature in sklearn, preposessing to scale features\n",
    "X = preprocessing.scale(X)\n",
    "print(X[1,:])"
   ]
  },
  {
   "cell_type": "markdown",
   "metadata": {},
   "source": [
    "As our X contains last 'n= forecast_50  ' rows for which we don't have label data. We will put that in different variable.\n",
    "So intially our X was having rows of 1844 and now it will with rows 1794 (-forecast_50)."
   ]
  },
  {
   "cell_type": "code",
   "execution_count": 9,
   "metadata": {
    "scrolled": true
   },
   "outputs": [
    {
     "name": "stdout",
     "output_type": "stream",
     "text": [
      "Length of X_forecast_out: 50 & Length of X : 1794\n"
     ]
    }
   ],
   "source": [
    "X_forecast_out = X[-forecast_50:]\n",
    "X = X[:-forecast_50]\n",
    "print (\"Length of X_forecast_out:\", len(X_forecast_out), \"& Length of X :\", len(X))"
   ]
  },
  {
   "cell_type": "markdown",
   "metadata": {},
   "source": [
    "Now lets set our Dependent variable Y wiht values of label (output coloumn). Please not both X and Y should be of same lenght here."
   ]
  },
  {
   "cell_type": "code",
   "execution_count": 10,
   "metadata": {},
   "outputs": [
    {
     "name": "stdout",
     "output_type": "stream",
     "text": [
      "Length of y:  1794\n"
     ]
    }
   ],
   "source": [
    "Y = np.array(Infy_new['label'])\n",
    "Y = Y[:-forecast_50]\n",
    "print('Length of y: ',len(Y))"
   ]
  },
  {
   "cell_type": "markdown",
   "metadata": {},
   "source": [
    " "
   ]
  },
  {
   "cell_type": "markdown",
   "metadata": {},
   "source": [
    "Train and Test spliting using cross_validation."
   ]
  },
  {
   "cell_type": "markdown",
   "metadata": {},
   "source": [
    "While splitting the data into train and test, we cannot use random splitting since that will destroy the time component"
   ]
  },
  {
   "cell_type": "code",
   "execution_count": 11,
   "metadata": {
    "scrolled": false
   },
   "outputs": [
    {
     "name": "stdout",
     "output_type": "stream",
     "text": [
      "shape of X_train, X_test, y_train, y_testt:  (1435, 4) (359, 4) (1435,) (359,)\n"
     ]
    }
   ],
   "source": [
    "# here we have set test_size as 0.2 which indicate 20% data is test data\n",
    "X_train, X_test, y_train, y_test = train_test_split(X, Y, test_size = 0.2)\n",
    "\n",
    "print('shape of X_train, X_test, y_train, y_testt: ', X_train.shape, X_test.shape ,y_train.shape,y_test.shape)"
   ]
  },
  {
   "cell_type": "markdown",
   "metadata": {},
   "source": [
    "Our X (Dependant variable) will be an array consisting of our Close price values, so we need to drop the Label(output)column. We also need to scale our input (X) values using StandardScaler, it will basically transform the data such that its distribution will have a mean value 0 and standard deviation of 1. Given the distribution of the data, each value in the dataset will have the sample mean value subtracted, and then divided by the standard deviation of the whole dataset. As always will fit_transform standardization on train data and transform the learning to test data"
   ]
  },
  {
   "cell_type": "code",
   "execution_count": 12,
   "metadata": {},
   "outputs": [],
   "source": [
    "# normalizing/standardizing features using StandardScaler\n",
    "\n",
    "scalar = StandardScaler()\n",
    "\n",
    "X_train = scalar.fit_transform(X_train)\n",
    "X_test = scalar.transform(X_test)"
   ]
  },
  {
   "cell_type": "markdown",
   "metadata": {},
   "source": [
    "## ML Model  - Linear Regression"
   ]
  },
  {
   "cell_type": "markdown",
   "metadata": {},
   "source": [
    "Lets apply simple basic Linear Regression on our stock data. Linear regression is a method used to model a  relationship between a dependent variable (y), and an independent variable (x). With simple linear regression, there will only be one independent variable x. With simple linear regression, there is one independent variable x.In our case we only have one independent variable which is the date and one dependent variable which is closing price"
   ]
  },
  {
   "cell_type": "code",
   "execution_count": 230,
   "metadata": {},
   "outputs": [
    {
     "name": "stdout",
     "output_type": "stream",
     "text": [
      "Accuracy of Linear Regression:  0.8102708939416399\n"
     ]
    }
   ],
   "source": [
    "# Applying LR on trainging data\n",
    "\n",
    "clf = LinearRegression()\n",
    "clf.fit(X_train,y_train)\n",
    "\n",
    "# Checking accuracy of model on test data\n",
    "\n",
    "accuracy = clf.score(X_test, y_test)\n",
    "print(\"Accuracy of Linear Regression: \", accuracy)"
   ]
  },
  {
   "cell_type": "code",
   "execution_count": 24,
   "metadata": {},
   "outputs": [
    {
     "data": {
      "text/plain": [
       "431.7469839858023"
      ]
     },
     "execution_count": 24,
     "metadata": {},
     "output_type": "execute_result"
    }
   ],
   "source": [
    "#make predictions and find the rmse\n",
    "preds = clf.predict(X_test)\n",
    "rms=np.sqrt(np.mean(np.power((np.array(y_test)-np.array(preds)),2)))\n",
    "rms"
   ]
  },
  {
   "cell_type": "code",
   "execution_count": 117,
   "metadata": {
    "scrolled": false
   },
   "outputs": [
    {
     "name": "stdout",
     "output_type": "stream",
     "text": [
      "[772.4202455  836.27743045 691.84617824 804.95831536 814.89325432\n",
      " 846.64498054 865.65689106 791.0668764  819.89489457 816.86055317\n",
      " 812.88188158 770.34404918 763.3324254  808.77369297 765.49406789\n",
      " 626.19564885 712.85489885 804.78672085 791.33038646 776.19514655\n",
      " 735.86146731 782.47744382 737.44817738 740.43107387 723.29979418\n",
      " 852.66396118 766.90709397 760.80772127 758.73018129 819.39567382\n",
      " 768.44651906 754.36254123 783.60870196 794.20866184 781.97540993\n",
      " 747.18203695 762.84516906 777.81785395 692.41414817 717.02659752\n",
      " 656.95884086 646.60448321 619.83071838 681.87754187 690.12050985\n",
      " 741.62814397 751.63187717 786.18169166 774.28182633 794.1453933 ]\n"
     ]
    }
   ],
   "source": [
    "# Predict using our Model\n",
    "Next_50days_stock_price = clf.predict(X_forecast_out)\n",
    "print(Next_50days_stock_price)"
   ]
  },
  {
   "cell_type": "markdown",
   "metadata": {},
   "source": [
    "**There you go! we have just ploted the next 50 Infosis stock price. Lets plot these stock prices by adding dates next 50 future dates to our exsisting dataset.**"
   ]
  },
  {
   "cell_type": "code",
   "execution_count": 178,
   "metadata": {
    "scrolled": true
   },
   "outputs": [
    {
     "data": {
      "image/png": "[encoded data removed]",
      "text/plain": [
       "<matplotlib.figure.Figure at 0x7f2705e03630>"
      ]
     },
     "metadata": {},
     "output_type": "display_data"
    }
   ],
   "source": [
    "# Creating new coloumn in our dataset and set it to nan values\n",
    "Infy_new.dropna(inplace=True)\n",
    "Infy_new['forecast'] = np.nan\n",
    "last_date = Infy_new.iloc[-1].name\n",
    "last_unix = last_date.timestamp()\n",
    "one_day = 1000\n",
    "next_unix = last_unix + one_day\n",
    "\n",
    "for i in Next_50days_stock_price:\n",
    "    next_date = datetime.datetime.fromtimestamp(next_unix)\n",
    "    next_unix += 1000\n",
    "    Infy_new.loc[next_date] = [np.nan for _ in range(len(Infy_new.columns)-1)]+[i]\n",
    "\n",
    "#Ploting the stock price \n",
    "Infy_new['Close'].plot(figsize=(15,6), color=\"green\")\n",
    "Infy_new['forecast'].plot(figsize=(15,6), color=\"orange\")\n",
    "plt.legend(loc=2)\n",
    "plt.xlabel('Date')\n",
    "plt.ylabel('Price')\n",
    "plt.show()"
   ]
  },
  {
   "cell_type": "markdown",
   "metadata": {},
   "source": [
    "## ML Model  - ARIMA"
   ]
  },
  {
   "cell_type": "markdown",
   "metadata": {},
   "source": [
    "Lets perform perdiction through another ML model called ARIMA. ARIMA stands for Autoregressive Integrated Moving Average. It is is a very popular statistical method for time series forecasting. Time series information are data points measured at consistent time intervals. This simply implies that particular values are recorded at a constant interval which may be hourly, daily, weekly, anually etc. In Time series data each data point in the series is dependent on the previous data points. Stock prices over a time Interval (in our case from prices between specific dates) are examples of Time series data.\n",
    "\n",
    "ARIMA has mainly three components – AR (autoregressive term), I (differencing term) and MA (moving average term). \n",
    "\n",
    "Let us understand each of these components –\n",
    "\n",
    "AR term refers to the past values used for forecasting the next value. The AR term is defined by the parameter ‘p’ in arima. \n",
    "\n",
    "Differencing (I-for Integrated) – This involves differencing the time series data to remove the trend and convert a non-stationary time series to a stationary one. This is indicated by the “d” value in the ARIMA model. If d = 1, it looks at the difference between two-time series entries, if d = 2 it looks at the differences of the differences obtained at d =1, and so forth.\n",
    "\n",
    "MA term is used to defines number of past forecast errors used to predict the future values. The AR term is defined by the parameter ‘q’ in arima\n",
    "\n",
    "Although there is tradational ARIMA model , In our case we will be using auto_arima in which Parameter tuning aka selection of best combination of inputs (p,q,d) is shortlisted automatically that provides the least error"
   ]
  },
  {
   "cell_type": "code",
   "execution_count": 13,
   "metadata": {},
   "outputs": [
    {
     "name": "stdout",
     "output_type": "stream",
     "text": [
      "Fit ARIMA: order=(1, 1, 1) seasonal_order=(0, 1, 1, 12); AIC=14767.997, BIC=14793.758, Fit time=6.892 seconds\n",
      "Fit ARIMA: order=(0, 1, 0) seasonal_order=(0, 1, 0, 12); AIC=15637.143, BIC=15647.448, Fit time=0.157 seconds\n",
      "Fit ARIMA: order=(1, 1, 0) seasonal_order=(1, 1, 0, 12); AIC=15236.193, BIC=15256.802, Fit time=3.451 seconds\n",
      "Fit ARIMA: order=(0, 1, 1) seasonal_order=(0, 1, 1, 12); AIC=14766.004, BIC=14786.613, Fit time=4.151 seconds\n",
      "Fit ARIMA: order=(0, 1, 1) seasonal_order=(1, 1, 1, 12); AIC=14767.066, BIC=14792.827, Fit time=5.477 seconds\n",
      "Fit ARIMA: order=(0, 1, 1) seasonal_order=(0, 1, 0, 12); AIC=15637.689, BIC=15653.146, Fit time=0.329 seconds\n",
      "Fit ARIMA: order=(0, 1, 1) seasonal_order=(0, 1, 2, 12); AIC=14767.100, BIC=14792.861, Fit time=12.697 seconds\n",
      "Fit ARIMA: order=(0, 1, 1) seasonal_order=(1, 1, 2, 12); AIC=14761.010, BIC=14791.924, Fit time=28.633 seconds\n",
      "Fit ARIMA: order=(1, 1, 1) seasonal_order=(1, 1, 2, 12); AIC=14764.508, BIC=14800.574, Fit time=42.835 seconds\n",
      "Fit ARIMA: order=(0, 1, 0) seasonal_order=(1, 1, 2, 12); AIC=14766.902, BIC=14792.664, Fit time=20.870 seconds\n",
      "Fit ARIMA: order=(0, 1, 2) seasonal_order=(1, 1, 2, 12); AIC=14764.195, BIC=14800.261, Fit time=31.710 seconds\n",
      "Fit ARIMA: order=(1, 1, 2) seasonal_order=(1, 1, 2, 12); AIC=14772.617, BIC=14813.835, Fit time=34.641 seconds\n",
      "Fit ARIMA: order=(0, 1, 1) seasonal_order=(2, 1, 2, 12); AIC=14761.190, BIC=14797.255, Fit time=42.619 seconds\n",
      "Total fit time: 234.469 seconds\n"
     ]
    }
   ],
   "source": [
    "from pyramid.arima import auto_arima\n",
    "\n",
    "Infy_Sorted = Infy.sort_index(ascending=True, axis=0)\n",
    "\n",
    "train_data = Infy_Sorted[:1290]\n",
    "test_data = Infy_Sorted[1290:]\n",
    "\n",
    "training_data = train_data['Close']\n",
    "testing_data = test_data['Close']\n",
    "\n",
    "ar = auto_arima(training_data, start_p=1, start_q=1,max_p=3, max_q=3, m=12,start_P=0, seasonal=True,d=1, D=1, trace=True,error_action='ignore',suppress_warnings=True)\n",
    "ar.fit(training_data)\n",
    "\n",
    "Future_price = ar.predict(n_periods=554)\n",
    "Future_price = pd.DataFrame(Future_price,index = test_data.index,columns=['Prediction'])"
   ]
  },
  {
   "cell_type": "code",
   "execution_count": 17,
   "metadata": {},
   "outputs": [
    {
     "name": "stderr",
     "output_type": "stream",
     "text": [
      "No handles with labels found to put in legend.\n"
     ]
    },
    {
     "data": {
      "image/png": "[encoded data removed]",
      "text/plain": [
       "<Figure size 432x288 with 1 Axes>"
      ]
     },
     "metadata": {},
     "output_type": "display_data"
    }
   ],
   "source": [
    "#plot the predicted \n",
    "\n",
    "plt.legend(loc=2)\n",
    "plt.plot(train_data['Close'])\n",
    "plt.plot(test_data['Close'],color=\"green\")\n",
    "plt.plot(Future_price['Prediction'],color=\"orange\")\n",
    "plt.show()"
   ]
  },
  {
   "attachments": {
    "image.png": {
     "image/png": "[encoded data removed]"
    }
   },
   "cell_type": "markdown",
   "metadata": {},
   "source": [
    "Lets find RMSE for our model. The root-mean-squared error (RMSE) is a measure of how well your model performed. It does this by measuring difference between predicted values and the actual values.![image.png](attachment:image.png)"
   ]
  },
  {
   "cell_type": "code",
   "execution_count": 22,
   "metadata": {},
   "outputs": [
    {
     "data": {
      "text/plain": [
       "1010.0021389097408"
      ]
     },
     "execution_count": 22,
     "metadata": {},
     "output_type": "execute_result"
    }
   ],
   "source": [
    "# Calculating RMSE \n",
    "\n",
    "RMSE=np.sqrt(np.mean(np.power((np.array(testing_data)-np.array(Future_price['Prediction'])),2)))\n",
    "RMSE"
   ]
  },
  {
   "cell_type": "markdown",
   "metadata": {},
   "source": [
    "## ML Model  - Prophet"
   ]
  },
  {
   "cell_type": "markdown",
   "metadata": {},
   "source": [
    "Lets perform perdiction through another ML model called Prophet. Facebook released a paper describing a way to make forecasts at the scale Facebook does (huge). The idea is that analysts need a way to make forecasts quickly and reliably while still maintaining the ability to add value with their experience. The outcome of this is Prophet. In the words of Facebook themselves. Prophet is a procedure for forecasting time series data. It is based on an additive model where non-linear trends are fit with yearly and weekly seasonality, plus holidays. It works best with daily periodicity data with at least one year of historical data. Prophet is robust to missing data, shifts in the trend, and large outliers."
   ]
  },
  {
   "cell_type": "code",
   "execution_count": 28,
   "metadata": {},
   "outputs": [
    {
     "name": "stderr",
     "output_type": "stream",
     "text": [
      "INFO:fbprophet.forecaster:Disabling daily seasonality. Run prophet with daily_seasonality=True to override this.\n"
     ]
    }
   ],
   "source": [
    "#importing prophet\n",
    "from fbprophet import Prophet\n",
    "\n",
    "#creating dataframe\n",
    "Infy_prophet = pd.DataFrame(index=range(0,len(Infy_Sorted)),columns=['Date', 'Close'])\n",
    "\n",
    "for i in range(0,len(Infy_prophet)):\n",
    "    Infy_prophet['Date'][i] = Infy_Sorted['Date'][i]\n",
    "    Infy_prophet['Close'][i] = Infy_Sorted['Close'][i]\n",
    "\n",
    "Infy_prophet['Date'] = pd.to_datetime(Infy_prophet.Date,format='%Y-%m-%d')\n",
    "Infy_prophet.index = Infy_prophet['Date']\n",
    "\n",
    "#preparing data\n",
    "Infy_prophet.rename(columns={'Close': 'y', 'Date': 'ds'}, inplace=True)\n",
    "\n",
    "#train and validation\n",
    "train = Infy_prophet[:1290]\n",
    "valid = Infy_prophet[1290:]\n",
    "\n",
    "#fit the model\n",
    "model = Prophet()\n",
    "model.fit(train)\n",
    "\n",
    "#predictions\n",
    "close_prices = model.make_future_dataframe(periods=len(valid))\n",
    "forecast = model.predict(close_prices)"
   ]
  },
  {
   "cell_type": "code",
   "execution_count": 29,
   "metadata": {
    "scrolled": true
   },
   "outputs": [
    {
     "data": {
      "text/plain": [
       "352.0543292850981"
      ]
     },
     "execution_count": 29,
     "metadata": {},
     "output_type": "execute_result"
    }
   ],
   "source": [
    "#rmse\n",
    "forecast_valid = forecast['yhat'][1290:]\n",
    "rms=np.sqrt(np.mean(np.power((np.array(valid['y'])-np.array(forecast_valid)),2)))\n",
    "rms"
   ]
  },
  {
   "cell_type": "code",
   "execution_count": 31,
   "metadata": {
    "scrolled": true
   },
   "outputs": [
    {
     "data": {
      "text/plain": [
       "<matplotlib.legend.Legend at 0x7f9da6745748>"
      ]
     },
     "execution_count": 31,
     "metadata": {},
     "output_type": "execute_result"
    },
    {
     "data": {
      "image/png": "[encoded data removed]",
      "text/plain": [
       "<Figure size 432x288 with 1 Axes>"
      ]
     },
     "metadata": {},
     "output_type": "display_data"
    }
   ],
   "source": [
    "#plot\n",
    "valid['Predictions'] = 0\n",
    "valid['Predictions'] = forecast_valid.values\n",
    "\n",
    "plt.plot(train['y'])\n",
    "plt.plot(valid[['y', 'Predictions']])\n",
    "plt.legend(loc=2)"
   ]
  },
  {
   "cell_type": "markdown",
   "metadata": {},
   "source": [
    "## Own Strategy"
   ]
  },
  {
   "cell_type": "code",
   "execution_count": 13,
   "metadata": {},
   "outputs": [],
   "source": [
    "# here we are considering only 'Open', 'High', 'Low' ,'Close' features from our dataset\n",
    "\n",
    "Infy_Sorted = Infy_Sorted.dropna()\n",
    "Infy_OHLC = Infy_Sorted[['Open', 'High', 'Low', 'Close']]"
   ]
  },
  {
   "cell_type": "markdown",
   "metadata": {},
   "source": [
    "lets prepare the dataset by adding new features such as:-\n",
    "\n",
    "High minus Low price\n",
    "Close minus Open price\n",
    "Three day moving average\n",
    "Ten day moving average\n",
    "30 day moving average\n",
    "Standard deviation for a period of 10 days\n",
    "\n",
    "The moving average (MA) is a simple technical analysis tool that smooths out price data by creating a constantly updated average price. The average is taken over a specific period of time, like 10 days, 20 minutes, 30 weeks or any time period the trader chooses\n",
    "Standard deviation is a statistical measurement which measures historical volatility of particular stock. In our case we are considering volatility for 10 days."
   ]
  },
  {
   "cell_type": "code",
   "execution_count": 17,
   "metadata": {},
   "outputs": [],
   "source": [
    "Infy_OHLC['H-L'] = Infy_OHLC['High'] - Infy_OHLC['Low']\n",
    "Infy_OHLC['O-C'] = Infy_OHLC['Close'] - Infy_OHLC['Open']\n",
    "Infy_OHLC['3day MA'] = Infy_OHLC['Close'].shift(1).rolling(window = 3).mean()\n",
    "Infy_OHLC['10day MA'] = Infy_OHLC['Close'].shift(1).rolling(window = 10).mean()\n",
    "Infy_OHLC['30day MA'] = Infy_OHLC['Close'].shift(1).rolling(window = 30).mean()\n",
    "Infy_OHLC['Std_dev']= Infy_OHLC['Close'].rolling(10).std()"
   ]
  },
  {
   "cell_type": "markdown",
   "metadata": {},
   "source": [
    "Here we are setting output value - rise in price as '1' whenever the closing price of tomorrow is greater than the closing price of today."
   ]
  },
  {
   "cell_type": "code",
   "execution_count": 18,
   "metadata": {},
   "outputs": [],
   "source": [
    "Infy_OHLC['Rise_in_Price'] = np.where(Infy_OHLC['Close'].shift(-1) > Infy_OHLC['Close'], 1, 0)"
   ]
  },
  {
   "cell_type": "code",
   "execution_count": 19,
   "metadata": {},
   "outputs": [
    {
     "data": {
      "text/html": [
       "<div>\n",
       "<style scoped>\n",
       "    .dataframe tbody tr th:only-of-type {\n",
       "        vertical-align: middle;\n",
       "    }\n",
       "\n",
       "    .dataframe tbody tr th {\n",
       "        vertical-align: top;\n",
       "    }\n",
       "\n",
       "    .dataframe thead th {\n",
       "        text-align: right;\n",
       "    }\n",
       "</style>\n",
       "<table border=\"1\" class=\"dataframe\">\n",
       "  <thead>\n",
       "    <tr style=\"text-align: right;\">\n",
       "      <th></th>\n",
       "      <th>Open</th>\n",
       "      <th>High</th>\n",
       "      <th>Low</th>\n",
       "      <th>Close</th>\n",
       "      <th>H-L</th>\n",
       "      <th>O-C</th>\n",
       "      <th>3day MA</th>\n",
       "      <th>10day MA</th>\n",
       "      <th>30day MA</th>\n",
       "      <th>Std_dev</th>\n",
       "      <th>Rise_in_Price</th>\n",
       "    </tr>\n",
       "    <tr>\n",
       "      <th>Date</th>\n",
       "      <th></th>\n",
       "      <th></th>\n",
       "      <th></th>\n",
       "      <th></th>\n",
       "      <th></th>\n",
       "      <th></th>\n",
       "      <th></th>\n",
       "      <th></th>\n",
       "      <th></th>\n",
       "      <th></th>\n",
       "      <th></th>\n",
       "    </tr>\n",
       "  </thead>\n",
       "  <tbody>\n",
       "    <tr>\n",
       "      <th>2011-08-10</th>\n",
       "      <td>2448.0</td>\n",
       "      <td>2476.4</td>\n",
       "      <td>2411.1</td>\n",
       "      <td>2447.1</td>\n",
       "      <td>65.3</td>\n",
       "      <td>-0.9</td>\n",
       "      <td>2478.75</td>\n",
       "      <td>2676.77</td>\n",
       "      <td>2789.978333</td>\n",
       "      <td>158.426736</td>\n",
       "      <td>0</td>\n",
       "    </tr>\n",
       "  </tbody>\n",
       "</table>\n",
       "</div>"
      ],
      "text/plain": [
       "              Open    High     Low   Close   H-L  O-C  3day MA  10day MA  \\\n",
       "Date                                                                       \n",
       "2011-08-10  2448.0  2476.4  2411.1  2447.1  65.3 -0.9  2478.75   2676.77   \n",
       "\n",
       "               30day MA     Std_dev  Rise_in_Price  \n",
       "Date                                                \n",
       "2011-08-10  2789.978333  158.426736              0  "
      ]
     },
     "execution_count": 19,
     "metadata": {},
     "output_type": "execute_result"
    }
   ],
   "source": [
    "# Droping nan value\n",
    "Infy_OHLC = Infy_OHLC.dropna()\n",
    "Infy_OHLC.head(1)"
   ]
  },
  {
   "cell_type": "markdown",
   "metadata": {},
   "source": [
    "Creating input(X) and output(Y) data frames. \n",
    "Here input feature X consist from 4th index coloumn (H-L) till 9th Index(Std_dev)\n",
    "Output feature Y consist of 10th index(Rise_in_Price)coloumn."
   ]
  },
  {
   "cell_type": "code",
   "execution_count": 20,
   "metadata": {},
   "outputs": [],
   "source": [
    "X = Infy_OHLC.iloc[:, 4:-1]\n",
    "Y = Infy_OHLC.iloc[:, -1]"
   ]
  },
  {
   "cell_type": "markdown",
   "metadata": {},
   "source": [
    "Train Test split "
   ]
  },
  {
   "cell_type": "code",
   "execution_count": 21,
   "metadata": {},
   "outputs": [],
   "source": [
    "split = int(len(Infy_OHLC)*0.8)\n",
    "X_train, X_test, y_train, y_test = X[:split], X[split:], Y[:split], Y[split:]"
   ]
  },
  {
   "cell_type": "markdown",
   "metadata": {},
   "source": [
    "We now normalize/standardize our price data using StandardScaler"
   ]
  },
  {
   "cell_type": "code",
   "execution_count": 22,
   "metadata": {},
   "outputs": [],
   "source": [
    "from sklearn.preprocessing import StandardScaler\n",
    "scalar = StandardScaler()\n",
    "X_train = scalar.fit_transform(X_train)\n",
    "X_test = scalar.transform(X_test)"
   ]
  },
  {
   "cell_type": "markdown",
   "metadata": {},
   "source": [
    "Building the Artificial Neural Network"
   ]
  },
  {
   "cell_type": "code",
   "execution_count": 23,
   "metadata": {},
   "outputs": [],
   "source": [
    "from keras.models import Sequential\n",
    "from keras.layers import Dense\n",
    "from keras.layers import Dropout"
   ]
  },
  {
   "cell_type": "markdown",
   "metadata": {},
   "source": [
    "WE are using Sequential library to build our neural network neural network , Dense is used to build layers of our artificial neural network.\n",
    "\n",
    "\n",
    "\n",
    "We are using add() function to add layers into our neural_network. \n",
    "\n",
    "Parameters of Dense function\n",
    "\n",
    "Units: The no. of nodes or neurons in a layer. In our case it is 135 meaning there will be 135 neurons in our hidden layer.\n",
    "\n",
    "Kernel_initializer: It is starting values for the weights of the different neurons in the hidden layer.In our case its ‘uniform’ weights will have uniform distribution value\n",
    "\n",
    "Activation: It is activation function for the neurons in a hidden layer.\n",
    "\n",
    "Input_dim: This defines the number of inputs to the hidden layer."
   ]
  },
  {
   "cell_type": "code",
   "execution_count": 24,
   "metadata": {},
   "outputs": [],
   "source": [
    "# Defiing the neural network model\n",
    "\n",
    "neural_network = Sequential()\n",
    "neural_network.add(Dense(units = 135, kernel_initializer = 'uniform', activation = 'relu', input_dim = X.shape[1]))"
   ]
  },
  {
   "cell_type": "markdown",
   "metadata": {},
   "source": [
    "lets now add second layer to our neural_network, which makes our neural_network involving two layers only."
   ]
  },
  {
   "cell_type": "code",
   "execution_count": 25,
   "metadata": {},
   "outputs": [],
   "source": [
    "neural_network.add(Dense(units = 135, kernel_initializer = 'uniform', activation = 'relu'))"
   ]
  },
  {
   "cell_type": "markdown",
   "metadata": {},
   "source": [
    "here we are now building the output layer, from which we require a single output. Thats why units passed=1, activation function is chosen to be the Sigmoid function which makes the prediction to be a probability of market moving upwards."
   ]
  },
  {
   "cell_type": "code",
   "execution_count": 26,
   "metadata": {},
   "outputs": [],
   "source": [
    "neural_network.add(Dense(units = 1, kernel_initializer = 'uniform', activation = 'sigmoid'))"
   ]
  },
  {
   "cell_type": "markdown",
   "metadata": {},
   "source": [
    "Here we are compiling the neural_network by passing the following parameters\n",
    "\n",
    "Optimizer: we passed optimizer as 'adam', which is an extension of the stochastic gradient descent.\n",
    "\n",
    "Loss:It defines the loss to be optimized during the training period. \n",
    "\n",
    "Metrics: This defines the list of metrics to be evaluated by the model during the testing and training phase."
   ]
  },
  {
   "cell_type": "code",
   "execution_count": 27,
   "metadata": {},
   "outputs": [],
   "source": [
    "neural_network.compile(optimizer = 'adam', loss = 'mean_squared_error', metrics = ['accuracy'])"
   ]
  },
  {
   "cell_type": "markdown",
   "metadata": {},
   "source": [
    "Fiting the model on traning data by  by passing the following parameters\n",
    "\n",
    "Batch size -  It refers to the number of data points that the model uses to compute the error before backpropagating the errors and making modifications to the weights\n",
    "\n",
    "epochs - The number of times the training of the model will be performed on the train dataset"
   ]
  },
  {
   "cell_type": "code",
   "execution_count": 28,
   "metadata": {},
   "outputs": [
    {
     "name": "stdout",
     "output_type": "stream",
     "text": [
      "Epoch 1/100\n",
      "1451/1451 [==============================] - 3s 2ms/step - loss: 0.2500 - acc: 0.5258\n",
      "Epoch 2/100\n",
      "1451/1451 [==============================] - 0s 194us/step - loss: 0.2492 - acc: 0.5265\n",
      "Epoch 3/100\n",
      "1451/1451 [==============================] - 0s 225us/step - loss: 0.2482 - acc: 0.5348\n",
      "Epoch 4/100\n",
      "1451/1451 [==============================] - 0s 212us/step - loss: 0.2486 - acc: 0.5265\n",
      "Epoch 5/100\n",
      "1451/1451 [==============================] - 0s 210us/step - loss: 0.2482 - acc: 0.5486\n",
      "Epoch 6/100\n",
      "1451/1451 [==============================] - 0s 224us/step - loss: 0.2477 - acc: 0.5445\n",
      "Epoch 7/100\n",
      "1451/1451 [==============================] - 1s 384us/step - loss: 0.2471 - acc: 0.5479\n",
      "Epoch 8/100\n",
      "1451/1451 [==============================] - 0s 229us/step - loss: 0.2473 - acc: 0.5493\n",
      "Epoch 9/100\n",
      "1451/1451 [==============================] - 0s 283us/step - loss: 0.2466 - acc: 0.5445\n",
      "Epoch 10/100\n",
      "1451/1451 [==============================] - 0s 280us/step - loss: 0.2465 - acc: 0.5534\n",
      "Epoch 11/100\n",
      "1451/1451 [==============================] - 0s 237us/step - loss: 0.2465 - acc: 0.5513\n",
      "Epoch 12/100\n",
      "1451/1451 [==============================] - 0s 224us/step - loss: 0.2464 - acc: 0.5520\n",
      "Epoch 13/100\n",
      "1451/1451 [==============================] - 1s 378us/step - loss: 0.2460 - acc: 0.5555\n",
      "Epoch 14/100\n",
      "1451/1451 [==============================] - 0s 238us/step - loss: 0.2457 - acc: 0.5548\n",
      "Epoch 15/100\n",
      "1451/1451 [==============================] - 0s 269us/step - loss: 0.2452 - acc: 0.5513\n",
      "Epoch 16/100\n",
      "1451/1451 [==============================] - 0s 234us/step - loss: 0.2446 - acc: 0.5527\n",
      "Epoch 17/100\n",
      "1451/1451 [==============================] - 0s 245us/step - loss: 0.2452 - acc: 0.5500\n",
      "Epoch 18/100\n",
      "1451/1451 [==============================] - 1s 406us/step - loss: 0.2443 - acc: 0.5465\n",
      "Epoch 19/100\n",
      "1451/1451 [==============================] - 0s 288us/step - loss: 0.2439 - acc: 0.5520\n",
      "Epoch 20/100\n",
      "1451/1451 [==============================] - 0s 280us/step - loss: 0.2441 - acc: 0.5596\n",
      "Epoch 21/100\n",
      "1451/1451 [==============================] - 0s 233us/step - loss: 0.2431 - acc: 0.5548\n",
      "Epoch 22/100\n",
      "1451/1451 [==============================] - 0s 264us/step - loss: 0.2433 - acc: 0.5472\n",
      "Epoch 23/100\n",
      "1451/1451 [==============================] - 1s 380us/step - loss: 0.2423 - acc: 0.5603\n",
      "Epoch 24/100\n",
      "1451/1451 [==============================] - 0s 259us/step - loss: 0.2425 - acc: 0.5451\n",
      "Epoch 25/100\n",
      "1451/1451 [==============================] - 0s 251us/step - loss: 0.2422 - acc: 0.5527\n",
      "Epoch 26/100\n",
      "1451/1451 [==============================] - 0s 269us/step - loss: 0.2412 - acc: 0.5637\n",
      "Epoch 27/100\n",
      "1451/1451 [==============================] - 0s 244us/step - loss: 0.2419 - acc: 0.5596\n",
      "Epoch 28/100\n",
      "1451/1451 [==============================] - 1s 383us/step - loss: 0.2406 - acc: 0.5700\n",
      "Epoch 29/100\n",
      "1451/1451 [==============================] - 0s 228us/step - loss: 0.2403 - acc: 0.5651\n",
      "Epoch 30/100\n",
      "1451/1451 [==============================] - 0s 292us/step - loss: 0.2395 - acc: 0.5569\n",
      "Epoch 31/100\n",
      "1451/1451 [==============================] - 0s 243us/step - loss: 0.2393 - acc: 0.5713\n",
      "Epoch 32/100\n",
      "1451/1451 [==============================] - 0s 248us/step - loss: 0.2389 - acc: 0.5755\n",
      "Epoch 33/100\n",
      "1451/1451 [==============================] - 0s 275us/step - loss: 0.2386 - acc: 0.5734\n",
      "Epoch 34/100\n",
      "1451/1451 [==============================] - 1s 411us/step - loss: 0.2394 - acc: 0.5693\n",
      "Epoch 35/100\n",
      "1451/1451 [==============================] - 0s 328us/step - loss: 0.2385 - acc: 0.5810\n",
      "Epoch 36/100\n",
      "1451/1451 [==============================] - 0s 306us/step - loss: 0.2385 - acc: 0.5672\n",
      "Epoch 37/100\n",
      "1451/1451 [==============================] - 0s 274us/step - loss: 0.2370 - acc: 0.5782\n",
      "Epoch 38/100\n",
      "1451/1451 [==============================] - 1s 414us/step - loss: 0.2364 - acc: 0.5803\n",
      "Epoch 39/100\n",
      "1451/1451 [==============================] - 0s 226us/step - loss: 0.2360 - acc: 0.5906\n",
      "Epoch 40/100\n",
      "1451/1451 [==============================] - 0s 228us/step - loss: 0.2355 - acc: 0.5837\n",
      "Epoch 41/100\n",
      "1451/1451 [==============================] - 0s 245us/step - loss: 0.2348 - acc: 0.5865\n",
      "Epoch 42/100\n",
      "1451/1451 [==============================] - 0s 228us/step - loss: 0.2350 - acc: 0.5892\n",
      "Epoch 43/100\n",
      "1451/1451 [==============================] - 0s 240us/step - loss: 0.2335 - acc: 0.5865\n",
      "Epoch 44/100\n",
      "1451/1451 [==============================] - 1s 368us/step - loss: 0.2348 - acc: 0.5817\n",
      "Epoch 45/100\n",
      "1451/1451 [==============================] - 0s 237us/step - loss: 0.2337 - acc: 0.5865\n",
      "Epoch 46/100\n",
      "1451/1451 [==============================] - 0s 240us/step - loss: 0.2329 - acc: 0.5927\n",
      "Epoch 47/100\n",
      "1451/1451 [==============================] - 0s 242us/step - loss: 0.2320 - acc: 0.5961\n",
      "Epoch 48/100\n",
      "1451/1451 [==============================] - 0s 261us/step - loss: 0.2314 - acc: 0.5906\n",
      "Epoch 49/100\n",
      "1451/1451 [==============================] - 0s 239us/step - loss: 0.2330 - acc: 0.5858\n",
      "Epoch 50/100\n",
      "1451/1451 [==============================] - 1s 396us/step - loss: 0.2315 - acc: 0.5858\n",
      "Epoch 51/100\n",
      "1451/1451 [==============================] - 0s 239us/step - loss: 0.2295 - acc: 0.5927\n",
      "Epoch 52/100\n",
      "1451/1451 [==============================] - 0s 274us/step - loss: 0.2310 - acc: 0.5920\n",
      "Epoch 53/100\n",
      "1451/1451 [==============================] - 0s 245us/step - loss: 0.2300 - acc: 0.5989\n",
      "Epoch 54/100\n",
      "1451/1451 [==============================] - 0s 241us/step - loss: 0.2295 - acc: 0.6017\n",
      "Epoch 55/100\n",
      "1451/1451 [==============================] - 1s 372us/step - loss: 0.2288 - acc: 0.5961\n",
      "Epoch 56/100\n",
      "1451/1451 [==============================] - 0s 296us/step - loss: 0.2291 - acc: 0.6017\n",
      "Epoch 57/100\n",
      "1451/1451 [==============================] - 0s 303us/step - loss: 0.2295 - acc: 0.5996\n",
      "Epoch 58/100\n",
      "1451/1451 [==============================] - 0s 271us/step - loss: 0.2269 - acc: 0.6099\n",
      "Epoch 59/100\n",
      "1451/1451 [==============================] - 0s 295us/step - loss: 0.2275 - acc: 0.6044\n",
      "Epoch 60/100\n",
      "1451/1451 [==============================] - 1s 413us/step - loss: 0.2274 - acc: 0.6051\n",
      "Epoch 61/100\n",
      "1451/1451 [==============================] - 0s 283us/step - loss: 0.2278 - acc: 0.6065\n",
      "Epoch 62/100\n",
      "1451/1451 [==============================] - 0s 272us/step - loss: 0.2269 - acc: 0.5941\n",
      "Epoch 63/100\n",
      "1451/1451 [==============================] - 0s 285us/step - loss: 0.2266 - acc: 0.6023\n",
      "Epoch 64/100\n",
      "1451/1451 [==============================] - 0s 254us/step - loss: 0.2257 - acc: 0.6113\n",
      "Epoch 65/100\n",
      "1451/1451 [==============================] - 1s 362us/step - loss: 0.2261 - acc: 0.6023\n",
      "Epoch 66/100\n",
      "1451/1451 [==============================] - 0s 261us/step - loss: 0.2261 - acc: 0.6079\n",
      "Epoch 67/100\n",
      "1451/1451 [==============================] - 0s 248us/step - loss: 0.2242 - acc: 0.6037\n",
      "Epoch 68/100\n",
      "1451/1451 [==============================] - 0s 228us/step - loss: 0.2240 - acc: 0.6141\n",
      "Epoch 69/100\n",
      "1451/1451 [==============================] - 0s 236us/step - loss: 0.2233 - acc: 0.6099\n",
      "Epoch 70/100\n",
      "1451/1451 [==============================] - 1s 371us/step - loss: 0.2234 - acc: 0.6092\n",
      "Epoch 71/100\n",
      "1451/1451 [==============================] - 0s 256us/step - loss: 0.2254 - acc: 0.6037\n",
      "Epoch 72/100\n",
      "1451/1451 [==============================] - 0s 299us/step - loss: 0.2233 - acc: 0.6196\n",
      "Epoch 73/100\n",
      "1451/1451 [==============================] - 0s 250us/step - loss: 0.2220 - acc: 0.6175\n",
      "Epoch 74/100\n",
      "1451/1451 [==============================] - 0s 278us/step - loss: 0.2232 - acc: 0.6182\n",
      "Epoch 75/100\n",
      "1451/1451 [==============================] - 1s 394us/step - loss: 0.2209 - acc: 0.6389\n",
      "Epoch 76/100\n",
      "1451/1451 [==============================] - 0s 309us/step - loss: 0.2214 - acc: 0.6265\n",
      "Epoch 77/100\n",
      "1451/1451 [==============================] - 0s 279us/step - loss: 0.2207 - acc: 0.6203\n",
      "Epoch 78/100\n",
      "1451/1451 [==============================] - 0s 251us/step - loss: 0.2208 - acc: 0.6196\n",
      "Epoch 79/100\n",
      "1451/1451 [==============================] - 0s 255us/step - loss: 0.2207 - acc: 0.6237\n",
      "Epoch 80/100\n",
      "1451/1451 [==============================] - 0s 258us/step - loss: 0.2190 - acc: 0.6292\n",
      "Epoch 81/100\n",
      "1451/1451 [==============================] - 1s 397us/step - loss: 0.2195 - acc: 0.6299\n",
      "Epoch 82/100\n",
      "1451/1451 [==============================] - 0s 228us/step - loss: 0.2195 - acc: 0.6278\n",
      "Epoch 83/100\n",
      "1451/1451 [==============================] - 0s 254us/step - loss: 0.2182 - acc: 0.6265\n",
      "Epoch 84/100\n",
      "1451/1451 [==============================] - 0s 238us/step - loss: 0.2179 - acc: 0.6278\n",
      "Epoch 85/100\n",
      "1451/1451 [==============================] - 0s 239us/step - loss: 0.2186 - acc: 0.6292\n",
      "Epoch 86/100\n",
      "1451/1451 [==============================] - 1s 368us/step - loss: 0.2172 - acc: 0.6354\n",
      "Epoch 87/100\n",
      "1451/1451 [==============================] - 0s 240us/step - loss: 0.2167 - acc: 0.6306\n",
      "Epoch 88/100\n",
      "1451/1451 [==============================] - 0s 232us/step - loss: 0.2165 - acc: 0.6485\n",
      "Epoch 89/100\n",
      "1451/1451 [==============================] - 0s 238us/step - loss: 0.2154 - acc: 0.6334\n",
      "Epoch 90/100\n",
      "1451/1451 [==============================] - 0s 273us/step - loss: 0.2164 - acc: 0.6382\n",
      "Epoch 91/100\n",
      "1451/1451 [==============================] - 1s 407us/step - loss: 0.2146 - acc: 0.6485\n",
      "Epoch 92/100\n",
      "1451/1451 [==============================] - 0s 248us/step - loss: 0.2141 - acc: 0.6340\n",
      "Epoch 93/100\n",
      "1451/1451 [==============================] - 0s 231us/step - loss: 0.2143 - acc: 0.6361\n",
      "Epoch 94/100\n",
      "1451/1451 [==============================] - 0s 234us/step - loss: 0.2141 - acc: 0.6423\n",
      "Epoch 95/100\n",
      "1451/1451 [==============================] - 0s 225us/step - loss: 0.2146 - acc: 0.6306\n",
      "Epoch 96/100\n",
      "1451/1451 [==============================] - 0s 237us/step - loss: 0.2133 - acc: 0.6368\n",
      "Epoch 97/100\n",
      "1451/1451 [==============================] - 1s 405us/step - loss: 0.2123 - acc: 0.6465\n",
      "Epoch 98/100\n",
      "1451/1451 [==============================] - 0s 230us/step - loss: 0.2111 - acc: 0.6444\n",
      "Epoch 99/100\n",
      "1451/1451 [==============================] - 0s 258us/step - loss: 0.2116 - acc: 0.6513\n",
      "Epoch 100/100\n",
      "1451/1451 [==============================] - 0s 238us/step - loss: 0.2119 - acc: 0.6533\n"
     ]
    },
    {
     "data": {
      "text/plain": [
       "<keras.callbacks.History at 0x7f519e0f8240>"
      ]
     },
     "execution_count": 28,
     "metadata": {},
     "output_type": "execute_result"
    }
   ],
   "source": [
    "neural_network.fit(X_train, y_train, batch_size = 10, epochs = 100)"
   ]
  },
  {
   "cell_type": "markdown",
   "metadata": {},
   "source": [
    "As the traing of model is completed we finally are ready to make predictions "
   ]
  },
  {
   "cell_type": "markdown",
   "metadata": {},
   "source": [
    "Predicting on test data and storing the predcitions back into y_pred which are greater than 0.5, i.e y-pred will consist of bollean values."
   ]
  },
  {
   "cell_type": "code",
   "execution_count": 29,
   "metadata": {},
   "outputs": [],
   "source": [
    "y_pred = neural_network.predict(X_test)\n",
    "y_pred = (y_pred > 0.5)"
   ]
  },
  {
   "cell_type": "markdown",
   "metadata": {},
   "source": [
    "Creating new coloumn of y_pred in our dataset and then adding our predicted values into this column , starting from the rows of the test dataset. Droping nan values at last."
   ]
  },
  {
   "cell_type": "code",
   "execution_count": 30,
   "metadata": {},
   "outputs": [],
   "source": [
    "Infy_OHLC['y_pred'] = np.NaN\n",
    "Infy_OHLC.iloc[(len(Infy_OHLC) - len(y_pred)):,-1:] = y_pred\n",
    "trade_Infy = Infy_OHLC.dropna()"
   ]
  },
  {
   "cell_type": "markdown",
   "metadata": {},
   "source": [
    "Now that we have predicted values , we are calculating stratagies as per below. \n",
    "\n",
    "We consider long position when the predicted value of y is true and short position when it is False.\n",
    "\n",
    "Creating new coloumn‘Tomorrows Returns’ in the trade_Infy and assign it as 0. Then we are take log of the closing price of today divided by the closing price of yesterday. Next, we shift these values upwards by one element so that tomorrow’s returns are stored against the prices of today."
   ]
  },
  {
   "cell_type": "code",
   "execution_count": 32,
   "metadata": {},
   "outputs": [],
   "source": [
    "trade_Infy['Tomorrows Returns'] = 0.\n",
    "trade_Infy['Tomorrows Returns'] = np.log(trade_Infy['Close']/trade_Infy['Close'].shift(1))\n",
    "trade_Infy['Tomorrows Returns'] = trade_Infy['Tomorrows Returns'].shift(-1)"
   ]
  },
  {
   "cell_type": "markdown",
   "metadata": {},
   "source": [
    "Now we'll calculate Strategy Returns usising np.where() function, we then store the value in the column ‘Tomorrows Returns’ if the value in the ‘y_pred’ column stores True (a long position), else we would store negative of the value in the column ‘Tomorrows Returns’ (a short position); into the ‘Strategy Returns’ column"
   ]
  },
  {
   "cell_type": "code",
   "execution_count": 33,
   "metadata": {},
   "outputs": [],
   "source": [
    "trade_Infy['Strategy Returns'] = 0.\n",
    "trade_Infy['Strategy Returns'] = np.where(trade_Infy['y_pred'] == True, trade_Infy['Tomorrows Returns'], - trade_Infy['Tomorrows Returns'])"
   ]
  },
  {
   "cell_type": "markdown",
   "metadata": {},
   "source": [
    "We calculate both market return and the strategy return. These values are computed using the cumsum() function. We will use the cumulative sum to plot the graph of market and strategy returns in the last step."
   ]
  },
  {
   "cell_type": "code",
   "execution_count": 34,
   "metadata": {},
   "outputs": [],
   "source": [
    "trade_Infy['Cumulative Market Returns'] = np.cumsum(trade_Infy['Tomorrows Returns'])\n",
    "trade_Infy['Cumulative Strategy Returns'] = np.cumsum(trade_Infy['Strategy Returns'])"
   ]
  },
  {
   "cell_type": "markdown",
   "metadata": {},
   "source": [
    "Plotting both the returns "
   ]
  },
  {
   "cell_type": "code",
   "execution_count": 39,
   "metadata": {},
   "outputs": [
    {
     "data": {
      "image/png": "[encoded data removed]",
      "text/plain": [
       "<Figure size 1080x360 with 1 Axes>"
      ]
     },
     "metadata": {},
     "output_type": "display_data"
    }
   ],
   "source": [
    "import matplotlib.pyplot as plt\n",
    "plt.figure(figsize=(15,5))\n",
    "plt.plot(trade_Infy['Cumulative Market Returns'], color='b', label='Market Returns')\n",
    "plt.plot(trade_Infy['Cumulative Strategy Returns'], color='g', label='Strategy Returns')\n",
    "plt.legend()\n",
    "plt.show()"
   ]
  },
  {
   "cell_type": "markdown",
   "metadata": {},
   "source": [
    "## ML Model - LSTM"
   ]
  },
  {
   "cell_type": "markdown",
   "metadata": {},
   "source": [
    "Now lets to predict closing prices using a simple LSTM Recurrent Neural Network.\n",
    "\n",
    "LSTMs are widely used for sequence prediction problems and time series data. The reason they work so well is because LSTM is able to store past information that is important, and forget the information that is not. LSTM has mainly following gates involved:\n",
    "\n",
    "1.) Cell State: Short term and Long term memory are stored here.\n",
    "2.) Hidden State: Hidden State can be used to retrieve short term and long term memory.\n",
    "3..) Input data: It decides how much information flow into the cell state.\n",
    "4.) Forget data: How much information from current input and previous cell state flows into the current cell state.\n",
    "5.) Output Gate: Decided how much data flows into the hidden state from the current state\n",
    "\n",
    "(For detail explanation on working of LSTM please refer this article.http://colah.github.io/posts/2015-08-Understanding-LSTMs/ "
   ]
  },
  {
   "cell_type": "code",
   "execution_count": 18,
   "metadata": {},
   "outputs": [],
   "source": [
    "import time\n",
    "import math\n",
    "from keras.models import Sequential\n",
    "from keras.layers.core import Dense, Dropout, Activation\n",
    "from keras.layers.recurrent import LSTM"
   ]
  },
  {
   "cell_type": "code",
   "execution_count": 45,
   "metadata": {},
   "outputs": [
    {
     "name": "stdout",
     "output_type": "stream",
     "text": [
      "Epoch 1/1\n",
      " - 307s - loss: 0.0044\n"
     ]
    }
   ],
   "source": [
    "#importing required libraries\n",
    "from sklearn.preprocessing import MinMaxScaler\n",
    "from keras.models import Sequential\n",
    "from keras.layers import Dense, Dropout, LSTM\n",
    "\n",
    "#creating dataframe\n",
    "Data_sorted = Infy_Sorted.sort_index(ascending=True, axis=0)\n",
    "new_data = pd.DataFrame(index=range(0,len(Infy_Sorted)),columns=['Date', 'Close'])\n",
    "for i in range(0,len(data)):\n",
    "    new_data['Date'][i] = Data_sorted['Date'][i]\n",
    "    new_data['Close'][i] = Data_sorted['Close'][i]\n",
    "\n",
    "#setting index\n",
    "new_data.index = new_data.Date\n",
    "new_data.drop('Date', axis=1, inplace=True)\n",
    "\n",
    "#creating train and test sets\n",
    "Final_Infy = new_data.values\n",
    "\n",
    "train = Final_Infy[:1290]\n",
    "valid = Final_Infy[1290:]\n",
    "\n",
    "#converting dataset into x_train and y_train\n",
    "scaler = MinMaxScaler(feature_range=(0, 1))\n",
    "scaled_data = scaler.fit_transform(dataset)\n",
    "\n",
    "x_train, y_train = [], []\n",
    "for i in range(60,len(train)):\n",
    "    x_train.append(scaled_data[i-60:i,0])\n",
    "    y_train.append(scaled_data[i,0])\n",
    "x_train, y_train = np.array(x_train), np.array(y_train)\n",
    "\n",
    "x_train = np.reshape(x_train, (x_train.shape[0],x_train.shape[1],1))\n",
    "\n",
    "# create and fit the LSTM network\n",
    "LSTM_model = Sequential()\n",
    "LSTM_model.add(LSTM(units=50, return_sequences=True, input_shape=(x_train.shape[1],1)))\n",
    "LSTM_model.add(LSTM(units=50))\n",
    "LSTM_model.add(Dense(1))\n",
    "\n",
    "LSTM_model.compile(loss='mean_squared_error', optimizer='adam')\n",
    "LSTM_model.fit(x_train, y_train, epochs=1, batch_size=1, verbose=2)\n",
    "\n",
    "#predicting 246 values, using past 60 from the train data\n",
    "inputs = new_data[len(new_data) - len(valid) - 60:].values\n",
    "inputs = inputs.reshape(-1,1)\n",
    "inputs  = scaler.transform(inputs)\n",
    "\n",
    "X_test = []\n",
    "for i in range(60,inputs.shape[0]):\n",
    "    X_test.append(inputs[i-60:i,0])\n",
    "X_test = np.array(X_test)\n",
    "\n",
    "X_test = np.reshape(X_test, (X_test.shape[0],X_test.shape[1],1))\n",
    "closing_price = LSTM_model.predict(X_test)\n",
    "closing_price = scaler.inverse_transform(closing_price)"
   ]
  },
  {
   "cell_type": "code",
   "execution_count": 46,
   "metadata": {},
   "outputs": [
    {
     "data": {
      "text/plain": [
       "56.66400958563059"
      ]
     },
     "execution_count": 46,
     "metadata": {},
     "output_type": "execute_result"
    }
   ],
   "source": [
    "rms=np.sqrt(np.mean(np.power((valid-closing_price),2)))\n",
    "rms"
   ]
  },
  {
   "cell_type": "code",
   "execution_count": 51,
   "metadata": {},
   "outputs": [
    {
     "data": {
      "text/plain": [
       "Text(0, 0.5, 'Price')"
      ]
     },
     "execution_count": 51,
     "metadata": {},
     "output_type": "execute_result"
    },
    {
     "data": {
      "image/png": "[encoded data removed]",
      "text/plain": [
       "<Figure size 432x288 with 1 Axes>"
      ]
     },
     "metadata": {},
     "output_type": "display_data"
    }
   ],
   "source": [
    "#for plotting\n",
    "train = new_data[:1290]\n",
    "valid = new_data[1290:]\n",
    "valid['Predictions'] = closing_price\n",
    "plt.plot(train['Close'] ,label='Closing_Price')\n",
    "plt.plot(valid[['Close','Predictions']], label='Prediction')\n",
    "plt.legend(loc=2)\n",
    "plt.xlabel('Date')\n",
    "plt.ylabel('Price')"
   ]
  }
 ],
 "metadata": {
  "kernelspec": {
   "display_name": "Python 3",
   "language": "python",
   "name": "python3"
  },
  "language_info": {
   "codemirror_mode": {
    "name": "ipython",
    "version": 3
   },
   "file_extension": ".py",
   "mimetype": "text/x-python",
   "name": "python",
   "nbconvert_exporter": "python",
   "pygments_lexer": "ipython3",
   "version": "3.5.3"
  }
 },
 "nbformat": 4,
 "nbformat_minor": 2
}
